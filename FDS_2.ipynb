{
  "cells": [
    {
      "cell_type": "markdown",
      "metadata": {
        "id": "view-in-github",
        "colab_type": "text"
      },
      "source": [
        "<a href=\"https://colab.research.google.com/github/deepanshusinha/data-science-mini-project-1/blob/main/FDS_2.ipynb\" target=\"_parent\"><img src=\"https://colab.research.google.com/assets/colab-badge.svg\" alt=\"Open In Colab\"/></a>"
      ]
    },
    {
      "cell_type": "code",
      "execution_count": null,
      "id": "c8491c48",
      "metadata": {
        "id": "c8491c48",
        "outputId": "a0a5adf2-5b68-4729-a51f-fffa3827773d"
      },
      "outputs": [
        {
          "data": {
            "text/html": [
              "<div>\n",
              "<style scoped>\n",
              "    .dataframe tbody tr th:only-of-type {\n",
              "        vertical-align: middle;\n",
              "    }\n",
              "\n",
              "    .dataframe tbody tr th {\n",
              "        vertical-align: top;\n",
              "    }\n",
              "\n",
              "    .dataframe thead th {\n",
              "        text-align: right;\n",
              "    }\n",
              "</style>\n",
              "<table border=\"1\" class=\"dataframe\">\n",
              "  <thead>\n",
              "    <tr style=\"text-align: right;\">\n",
              "      <th></th>\n",
              "      <th>index</th>\n",
              "      <th>City</th>\n",
              "      <th>Date</th>\n",
              "      <th>Card Type</th>\n",
              "      <th>Exp Type</th>\n",
              "      <th>Gender</th>\n",
              "      <th>Amount</th>\n",
              "    </tr>\n",
              "  </thead>\n",
              "  <tbody>\n",
              "    <tr>\n",
              "      <th>0</th>\n",
              "      <td>0</td>\n",
              "      <td>Delhi, India</td>\n",
              "      <td>29-Oct-14</td>\n",
              "      <td>Gold</td>\n",
              "      <td>Bills</td>\n",
              "      <td>F</td>\n",
              "      <td>82475</td>\n",
              "    </tr>\n",
              "    <tr>\n",
              "      <th>1</th>\n",
              "      <td>1</td>\n",
              "      <td>Greater Mumbai, India</td>\n",
              "      <td>22-Aug-14</td>\n",
              "      <td>Platinum</td>\n",
              "      <td>Bills</td>\n",
              "      <td>F</td>\n",
              "      <td>32555</td>\n",
              "    </tr>\n",
              "    <tr>\n",
              "      <th>2</th>\n",
              "      <td>2</td>\n",
              "      <td>Bengaluru, India</td>\n",
              "      <td>27-Aug-14</td>\n",
              "      <td>Silver</td>\n",
              "      <td>Bills</td>\n",
              "      <td>F</td>\n",
              "      <td>101738</td>\n",
              "    </tr>\n",
              "    <tr>\n",
              "      <th>3</th>\n",
              "      <td>3</td>\n",
              "      <td>Greater Mumbai, India</td>\n",
              "      <td>12-Apr-14</td>\n",
              "      <td>Signature</td>\n",
              "      <td>Bills</td>\n",
              "      <td>F</td>\n",
              "      <td>123424</td>\n",
              "    </tr>\n",
              "    <tr>\n",
              "      <th>4</th>\n",
              "      <td>4</td>\n",
              "      <td>Bengaluru, India</td>\n",
              "      <td>5-May-15</td>\n",
              "      <td>Gold</td>\n",
              "      <td>Bills</td>\n",
              "      <td>F</td>\n",
              "      <td>171574</td>\n",
              "    </tr>\n",
              "  </tbody>\n",
              "</table>\n",
              "</div>"
            ],
            "text/plain": [
              "   index                   City       Date  Card Type Exp Type Gender  Amount\n",
              "0      0           Delhi, India  29-Oct-14       Gold    Bills      F   82475\n",
              "1      1  Greater Mumbai, India  22-Aug-14   Platinum    Bills      F   32555\n",
              "2      2       Bengaluru, India  27-Aug-14     Silver    Bills      F  101738\n",
              "3      3  Greater Mumbai, India  12-Apr-14  Signature    Bills      F  123424\n",
              "4      4       Bengaluru, India   5-May-15       Gold    Bills      F  171574"
            ]
          },
          "execution_count": 2,
          "metadata": {},
          "output_type": "execute_result"
        }
      ],
      "source": [
        "import pandas as pd\n",
        "import numpy as np\n",
        "df = pd.read_csv(\"data.csv\")\n",
        "df.head()"
      ]
    },
    {
      "cell_type": "code",
      "execution_count": null,
      "id": "8ef70b47",
      "metadata": {
        "id": "8ef70b47",
        "outputId": "b95bf3e8-872f-4d59-ea1f-0b9e17d20af9"
      },
      "outputs": [
        {
          "data": {
            "text/plain": [
              "(26052, 7)"
            ]
          },
          "execution_count": 3,
          "metadata": {},
          "output_type": "execute_result"
        }
      ],
      "source": [
        "df.shape"
      ]
    },
    {
      "cell_type": "code",
      "execution_count": null,
      "id": "3c3bfab6",
      "metadata": {
        "id": "3c3bfab6",
        "outputId": "baf77f36-33b1-4307-b6a3-ebd1117266bd"
      },
      "outputs": [
        {
          "data": {
            "text/html": [
              "<div>\n",
              "<style scoped>\n",
              "    .dataframe tbody tr th:only-of-type {\n",
              "        vertical-align: middle;\n",
              "    }\n",
              "\n",
              "    .dataframe tbody tr th {\n",
              "        vertical-align: top;\n",
              "    }\n",
              "\n",
              "    .dataframe thead th {\n",
              "        text-align: right;\n",
              "    }\n",
              "</style>\n",
              "<table border=\"1\" class=\"dataframe\">\n",
              "  <thead>\n",
              "    <tr style=\"text-align: right;\">\n",
              "      <th></th>\n",
              "      <th>index</th>\n",
              "      <th>City</th>\n",
              "      <th>Date</th>\n",
              "      <th>Card Type</th>\n",
              "      <th>Exp Type</th>\n",
              "      <th>Gender</th>\n",
              "      <th>Amount</th>\n",
              "    </tr>\n",
              "  </thead>\n",
              "  <tbody>\n",
              "    <tr>\n",
              "      <th>0</th>\n",
              "      <td>0</td>\n",
              "      <td>Delhi, India</td>\n",
              "      <td>29-Oct-14</td>\n",
              "      <td>Gold</td>\n",
              "      <td>Bills</td>\n",
              "      <td>F</td>\n",
              "      <td>82475</td>\n",
              "    </tr>\n",
              "    <tr>\n",
              "      <th>1</th>\n",
              "      <td>1</td>\n",
              "      <td>Greater Mumbai, India</td>\n",
              "      <td>22-Aug-14</td>\n",
              "      <td>Platinum</td>\n",
              "      <td>Bills</td>\n",
              "      <td>F</td>\n",
              "      <td>32555</td>\n",
              "    </tr>\n",
              "    <tr>\n",
              "      <th>2</th>\n",
              "      <td>2</td>\n",
              "      <td>Bengaluru, India</td>\n",
              "      <td>27-Aug-14</td>\n",
              "      <td>Silver</td>\n",
              "      <td>Bills</td>\n",
              "      <td>F</td>\n",
              "      <td>101738</td>\n",
              "    </tr>\n",
              "    <tr>\n",
              "      <th>3</th>\n",
              "      <td>3</td>\n",
              "      <td>Greater Mumbai, India</td>\n",
              "      <td>12-Apr-14</td>\n",
              "      <td>Signature</td>\n",
              "      <td>Bills</td>\n",
              "      <td>F</td>\n",
              "      <td>123424</td>\n",
              "    </tr>\n",
              "    <tr>\n",
              "      <th>4</th>\n",
              "      <td>4</td>\n",
              "      <td>Bengaluru, India</td>\n",
              "      <td>5-May-15</td>\n",
              "      <td>Gold</td>\n",
              "      <td>Bills</td>\n",
              "      <td>F</td>\n",
              "      <td>171574</td>\n",
              "    </tr>\n",
              "    <tr>\n",
              "      <th>5</th>\n",
              "      <td>5</td>\n",
              "      <td>Delhi, India</td>\n",
              "      <td>8-Sep-14</td>\n",
              "      <td>Silver</td>\n",
              "      <td>Bills</td>\n",
              "      <td>F</td>\n",
              "      <td>100036</td>\n",
              "    </tr>\n",
              "    <tr>\n",
              "      <th>6</th>\n",
              "      <td>6</td>\n",
              "      <td>Delhi, India</td>\n",
              "      <td>24-Feb-15</td>\n",
              "      <td>Gold</td>\n",
              "      <td>Bills</td>\n",
              "      <td>F</td>\n",
              "      <td>143250</td>\n",
              "    </tr>\n",
              "    <tr>\n",
              "      <th>7</th>\n",
              "      <td>7</td>\n",
              "      <td>Greater Mumbai, India</td>\n",
              "      <td>26-Jun-14</td>\n",
              "      <td>Platinum</td>\n",
              "      <td>Bills</td>\n",
              "      <td>F</td>\n",
              "      <td>150980</td>\n",
              "    </tr>\n",
              "    <tr>\n",
              "      <th>8</th>\n",
              "      <td>8</td>\n",
              "      <td>Delhi, India</td>\n",
              "      <td>28-Mar-14</td>\n",
              "      <td>Silver</td>\n",
              "      <td>Bills</td>\n",
              "      <td>F</td>\n",
              "      <td>192247</td>\n",
              "    </tr>\n",
              "    <tr>\n",
              "      <th>9</th>\n",
              "      <td>9</td>\n",
              "      <td>Delhi, India</td>\n",
              "      <td>1-Sep-14</td>\n",
              "      <td>Platinum</td>\n",
              "      <td>Bills</td>\n",
              "      <td>F</td>\n",
              "      <td>67932</td>\n",
              "    </tr>\n",
              "    <tr>\n",
              "      <th>10</th>\n",
              "      <td>10</td>\n",
              "      <td>Delhi, India</td>\n",
              "      <td>22-Jun-14</td>\n",
              "      <td>Platinum</td>\n",
              "      <td>Bills</td>\n",
              "      <td>F</td>\n",
              "      <td>280061</td>\n",
              "    </tr>\n",
              "    <tr>\n",
              "      <th>11</th>\n",
              "      <td>11</td>\n",
              "      <td>Greater Mumbai, India</td>\n",
              "      <td>7-Dec-13</td>\n",
              "      <td>Signature</td>\n",
              "      <td>Bills</td>\n",
              "      <td>F</td>\n",
              "      <td>278036</td>\n",
              "    </tr>\n",
              "    <tr>\n",
              "      <th>12</th>\n",
              "      <td>12</td>\n",
              "      <td>Greater Mumbai, India</td>\n",
              "      <td>7-Aug-14</td>\n",
              "      <td>Gold</td>\n",
              "      <td>Bills</td>\n",
              "      <td>F</td>\n",
              "      <td>19226</td>\n",
              "    </tr>\n",
              "    <tr>\n",
              "      <th>13</th>\n",
              "      <td>13</td>\n",
              "      <td>Delhi, India</td>\n",
              "      <td>27-Apr-14</td>\n",
              "      <td>Signature</td>\n",
              "      <td>Bills</td>\n",
              "      <td>F</td>\n",
              "      <td>254359</td>\n",
              "    </tr>\n",
              "    <tr>\n",
              "      <th>14</th>\n",
              "      <td>14</td>\n",
              "      <td>Greater Mumbai, India</td>\n",
              "      <td>15-Aug-14</td>\n",
              "      <td>Signature</td>\n",
              "      <td>Bills</td>\n",
              "      <td>F</td>\n",
              "      <td>302834</td>\n",
              "    </tr>\n",
              "    <tr>\n",
              "      <th>15</th>\n",
              "      <td>15</td>\n",
              "      <td>Greater Mumbai, India</td>\n",
              "      <td>28-Nov-14</td>\n",
              "      <td>Platinum</td>\n",
              "      <td>Bills</td>\n",
              "      <td>F</td>\n",
              "      <td>647116</td>\n",
              "    </tr>\n",
              "    <tr>\n",
              "      <th>16</th>\n",
              "      <td>16</td>\n",
              "      <td>Greater Mumbai, India</td>\n",
              "      <td>14-Jun-14</td>\n",
              "      <td>Signature</td>\n",
              "      <td>Bills</td>\n",
              "      <td>F</td>\n",
              "      <td>421878</td>\n",
              "    </tr>\n",
              "    <tr>\n",
              "      <th>17</th>\n",
              "      <td>17</td>\n",
              "      <td>Greater Mumbai, India</td>\n",
              "      <td>30-Mar-15</td>\n",
              "      <td>Gold</td>\n",
              "      <td>Bills</td>\n",
              "      <td>F</td>\n",
              "      <td>986379</td>\n",
              "    </tr>\n",
              "    <tr>\n",
              "      <th>18</th>\n",
              "      <td>18</td>\n",
              "      <td>Greater Mumbai, India</td>\n",
              "      <td>15-Mar-14</td>\n",
              "      <td>Platinum</td>\n",
              "      <td>Bills</td>\n",
              "      <td>F</td>\n",
              "      <td>213047</td>\n",
              "    </tr>\n",
              "    <tr>\n",
              "      <th>19</th>\n",
              "      <td>19</td>\n",
              "      <td>Greater Mumbai, India</td>\n",
              "      <td>9-Nov-13</td>\n",
              "      <td>Platinum</td>\n",
              "      <td>Bills</td>\n",
              "      <td>F</td>\n",
              "      <td>735566</td>\n",
              "    </tr>\n",
              "    <tr>\n",
              "      <th>20</th>\n",
              "      <td>20</td>\n",
              "      <td>Delhi, India</td>\n",
              "      <td>4-Apr-14</td>\n",
              "      <td>Signature</td>\n",
              "      <td>Bills</td>\n",
              "      <td>F</td>\n",
              "      <td>366102</td>\n",
              "    </tr>\n",
              "    <tr>\n",
              "      <th>21</th>\n",
              "      <td>21</td>\n",
              "      <td>Delhi, India</td>\n",
              "      <td>1-Jul-14</td>\n",
              "      <td>Signature</td>\n",
              "      <td>Bills</td>\n",
              "      <td>F</td>\n",
              "      <td>809623</td>\n",
              "    </tr>\n",
              "    <tr>\n",
              "      <th>22</th>\n",
              "      <td>22</td>\n",
              "      <td>Greater Mumbai, India</td>\n",
              "      <td>27-Mar-15</td>\n",
              "      <td>Silver</td>\n",
              "      <td>Bills</td>\n",
              "      <td>F</td>\n",
              "      <td>467014</td>\n",
              "    </tr>\n",
              "    <tr>\n",
              "      <th>23</th>\n",
              "      <td>23</td>\n",
              "      <td>Ahmedabad, India</td>\n",
              "      <td>11-Oct-13</td>\n",
              "      <td>Gold</td>\n",
              "      <td>Bills</td>\n",
              "      <td>F</td>\n",
              "      <td>668568</td>\n",
              "    </tr>\n",
              "    <tr>\n",
              "      <th>24</th>\n",
              "      <td>24</td>\n",
              "      <td>Ahmedabad, India</td>\n",
              "      <td>26-Mar-14</td>\n",
              "      <td>Gold</td>\n",
              "      <td>Bills</td>\n",
              "      <td>F</td>\n",
              "      <td>339112</td>\n",
              "    </tr>\n",
              "    <tr>\n",
              "      <th>25</th>\n",
              "      <td>25</td>\n",
              "      <td>Delhi, India</td>\n",
              "      <td>27-Sep-14</td>\n",
              "      <td>Silver</td>\n",
              "      <td>Bills</td>\n",
              "      <td>F</td>\n",
              "      <td>622170</td>\n",
              "    </tr>\n",
              "    <tr>\n",
              "      <th>26</th>\n",
              "      <td>26</td>\n",
              "      <td>Bengaluru, India</td>\n",
              "      <td>23-Mar-14</td>\n",
              "      <td>Platinum</td>\n",
              "      <td>Bills</td>\n",
              "      <td>F</td>\n",
              "      <td>434427</td>\n",
              "    </tr>\n",
              "    <tr>\n",
              "      <th>27</th>\n",
              "      <td>27</td>\n",
              "      <td>Greater Mumbai, India</td>\n",
              "      <td>17-May-14</td>\n",
              "      <td>Signature</td>\n",
              "      <td>Bills</td>\n",
              "      <td>F</td>\n",
              "      <td>655846</td>\n",
              "    </tr>\n",
              "    <tr>\n",
              "      <th>28</th>\n",
              "      <td>28</td>\n",
              "      <td>Bengaluru, India</td>\n",
              "      <td>18-Jan-15</td>\n",
              "      <td>Platinum</td>\n",
              "      <td>Bills</td>\n",
              "      <td>F</td>\n",
              "      <td>987935</td>\n",
              "    </tr>\n",
              "    <tr>\n",
              "      <th>29</th>\n",
              "      <td>29</td>\n",
              "      <td>Delhi, India</td>\n",
              "      <td>18-Apr-15</td>\n",
              "      <td>Gold</td>\n",
              "      <td>Bills</td>\n",
              "      <td>F</td>\n",
              "      <td>702774</td>\n",
              "    </tr>\n",
              "    <tr>\n",
              "      <th>30</th>\n",
              "      <td>30</td>\n",
              "      <td>Bengaluru, India</td>\n",
              "      <td>31-Jul-14</td>\n",
              "      <td>Signature</td>\n",
              "      <td>Bills</td>\n",
              "      <td>F</td>\n",
              "      <td>225392</td>\n",
              "    </tr>\n",
              "    <tr>\n",
              "      <th>31</th>\n",
              "      <td>31</td>\n",
              "      <td>Greater Mumbai, India</td>\n",
              "      <td>11-Feb-15</td>\n",
              "      <td>Gold</td>\n",
              "      <td>Bills</td>\n",
              "      <td>F</td>\n",
              "      <td>296573</td>\n",
              "    </tr>\n",
              "    <tr>\n",
              "      <th>32</th>\n",
              "      <td>32</td>\n",
              "      <td>Ahmedabad, India</td>\n",
              "      <td>24-Nov-13</td>\n",
              "      <td>Platinum</td>\n",
              "      <td>Bills</td>\n",
              "      <td>F</td>\n",
              "      <td>227702</td>\n",
              "    </tr>\n",
              "    <tr>\n",
              "      <th>33</th>\n",
              "      <td>33</td>\n",
              "      <td>Ahmedabad, India</td>\n",
              "      <td>8-Nov-14</td>\n",
              "      <td>Gold</td>\n",
              "      <td>Bills</td>\n",
              "      <td>F</td>\n",
              "      <td>864090</td>\n",
              "    </tr>\n",
              "    <tr>\n",
              "      <th>34</th>\n",
              "      <td>34</td>\n",
              "      <td>Ahmedabad, India</td>\n",
              "      <td>6-Sep-14</td>\n",
              "      <td>Signature</td>\n",
              "      <td>Bills</td>\n",
              "      <td>F</td>\n",
              "      <td>440605</td>\n",
              "    </tr>\n",
              "    <tr>\n",
              "      <th>35</th>\n",
              "      <td>35</td>\n",
              "      <td>Ahmedabad, India</td>\n",
              "      <td>24-Mar-15</td>\n",
              "      <td>Platinum</td>\n",
              "      <td>Bills</td>\n",
              "      <td>F</td>\n",
              "      <td>954660</td>\n",
              "    </tr>\n",
              "    <tr>\n",
              "      <th>36</th>\n",
              "      <td>36</td>\n",
              "      <td>Ahmedabad, India</td>\n",
              "      <td>1-Jan-14</td>\n",
              "      <td>Signature</td>\n",
              "      <td>Bills</td>\n",
              "      <td>F</td>\n",
              "      <td>255577</td>\n",
              "    </tr>\n",
              "    <tr>\n",
              "      <th>37</th>\n",
              "      <td>37</td>\n",
              "      <td>Ahmedabad, India</td>\n",
              "      <td>12-Jul-14</td>\n",
              "      <td>Silver</td>\n",
              "      <td>Bills</td>\n",
              "      <td>F</td>\n",
              "      <td>337352</td>\n",
              "    </tr>\n",
              "    <tr>\n",
              "      <th>38</th>\n",
              "      <td>38</td>\n",
              "      <td>Ahmedabad, India</td>\n",
              "      <td>4-Feb-14</td>\n",
              "      <td>Platinum</td>\n",
              "      <td>Bills</td>\n",
              "      <td>F</td>\n",
              "      <td>660244</td>\n",
              "    </tr>\n",
              "    <tr>\n",
              "      <th>39</th>\n",
              "      <td>39</td>\n",
              "      <td>Delhi, India</td>\n",
              "      <td>3-Feb-15</td>\n",
              "      <td>Silver</td>\n",
              "      <td>Bills</td>\n",
              "      <td>F</td>\n",
              "      <td>401351</td>\n",
              "    </tr>\n",
              "    <tr>\n",
              "      <th>40</th>\n",
              "      <td>40</td>\n",
              "      <td>Delhi, India</td>\n",
              "      <td>27-Oct-13</td>\n",
              "      <td>Platinum</td>\n",
              "      <td>Bills</td>\n",
              "      <td>F</td>\n",
              "      <td>678842</td>\n",
              "    </tr>\n",
              "    <tr>\n",
              "      <th>41</th>\n",
              "      <td>41</td>\n",
              "      <td>Delhi, India</td>\n",
              "      <td>11-May-14</td>\n",
              "      <td>Gold</td>\n",
              "      <td>Bills</td>\n",
              "      <td>F</td>\n",
              "      <td>478861</td>\n",
              "    </tr>\n",
              "    <tr>\n",
              "      <th>42</th>\n",
              "      <td>42</td>\n",
              "      <td>Bengaluru, India</td>\n",
              "      <td>10-Nov-14</td>\n",
              "      <td>Platinum</td>\n",
              "      <td>Bills</td>\n",
              "      <td>F</td>\n",
              "      <td>804938</td>\n",
              "    </tr>\n",
              "    <tr>\n",
              "      <th>43</th>\n",
              "      <td>43</td>\n",
              "      <td>Delhi, India</td>\n",
              "      <td>30-Jan-15</td>\n",
              "      <td>Silver</td>\n",
              "      <td>Bills</td>\n",
              "      <td>F</td>\n",
              "      <td>888341</td>\n",
              "    </tr>\n",
              "    <tr>\n",
              "      <th>44</th>\n",
              "      <td>44</td>\n",
              "      <td>Bengaluru, India</td>\n",
              "      <td>19-Apr-14</td>\n",
              "      <td>Platinum</td>\n",
              "      <td>Bills</td>\n",
              "      <td>F</td>\n",
              "      <td>262414</td>\n",
              "    </tr>\n",
              "    <tr>\n",
              "      <th>45</th>\n",
              "      <td>45</td>\n",
              "      <td>Bengaluru, India</td>\n",
              "      <td>8-Sep-14</td>\n",
              "      <td>Gold</td>\n",
              "      <td>Bills</td>\n",
              "      <td>F</td>\n",
              "      <td>249353</td>\n",
              "    </tr>\n",
              "    <tr>\n",
              "      <th>46</th>\n",
              "      <td>46</td>\n",
              "      <td>Ahmedabad, India</td>\n",
              "      <td>10-Dec-13</td>\n",
              "      <td>Gold</td>\n",
              "      <td>Bills</td>\n",
              "      <td>F</td>\n",
              "      <td>892016</td>\n",
              "    </tr>\n",
              "    <tr>\n",
              "      <th>47</th>\n",
              "      <td>47</td>\n",
              "      <td>Ahmedabad, India</td>\n",
              "      <td>4-Nov-13</td>\n",
              "      <td>Platinum</td>\n",
              "      <td>Bills</td>\n",
              "      <td>F</td>\n",
              "      <td>313626</td>\n",
              "    </tr>\n",
              "    <tr>\n",
              "      <th>48</th>\n",
              "      <td>48</td>\n",
              "      <td>Greater Mumbai, India</td>\n",
              "      <td>1-Jun-14</td>\n",
              "      <td>Gold</td>\n",
              "      <td>Bills</td>\n",
              "      <td>F</td>\n",
              "      <td>314366</td>\n",
              "    </tr>\n",
              "    <tr>\n",
              "      <th>49</th>\n",
              "      <td>49</td>\n",
              "      <td>Greater Mumbai, India</td>\n",
              "      <td>27-Apr-14</td>\n",
              "      <td>Signature</td>\n",
              "      <td>Bills</td>\n",
              "      <td>F</td>\n",
              "      <td>551340</td>\n",
              "    </tr>\n",
              "  </tbody>\n",
              "</table>\n",
              "</div>"
            ],
            "text/plain": [
              "    index                   City       Date  Card Type Exp Type Gender  Amount\n",
              "0       0           Delhi, India  29-Oct-14       Gold    Bills      F   82475\n",
              "1       1  Greater Mumbai, India  22-Aug-14   Platinum    Bills      F   32555\n",
              "2       2       Bengaluru, India  27-Aug-14     Silver    Bills      F  101738\n",
              "3       3  Greater Mumbai, India  12-Apr-14  Signature    Bills      F  123424\n",
              "4       4       Bengaluru, India   5-May-15       Gold    Bills      F  171574\n",
              "5       5           Delhi, India   8-Sep-14     Silver    Bills      F  100036\n",
              "6       6           Delhi, India  24-Feb-15       Gold    Bills      F  143250\n",
              "7       7  Greater Mumbai, India  26-Jun-14   Platinum    Bills      F  150980\n",
              "8       8           Delhi, India  28-Mar-14     Silver    Bills      F  192247\n",
              "9       9           Delhi, India   1-Sep-14   Platinum    Bills      F   67932\n",
              "10     10           Delhi, India  22-Jun-14   Platinum    Bills      F  280061\n",
              "11     11  Greater Mumbai, India   7-Dec-13  Signature    Bills      F  278036\n",
              "12     12  Greater Mumbai, India   7-Aug-14       Gold    Bills      F   19226\n",
              "13     13           Delhi, India  27-Apr-14  Signature    Bills      F  254359\n",
              "14     14  Greater Mumbai, India  15-Aug-14  Signature    Bills      F  302834\n",
              "15     15  Greater Mumbai, India  28-Nov-14   Platinum    Bills      F  647116\n",
              "16     16  Greater Mumbai, India  14-Jun-14  Signature    Bills      F  421878\n",
              "17     17  Greater Mumbai, India  30-Mar-15       Gold    Bills      F  986379\n",
              "18     18  Greater Mumbai, India  15-Mar-14   Platinum    Bills      F  213047\n",
              "19     19  Greater Mumbai, India   9-Nov-13   Platinum    Bills      F  735566\n",
              "20     20           Delhi, India   4-Apr-14  Signature    Bills      F  366102\n",
              "21     21           Delhi, India   1-Jul-14  Signature    Bills      F  809623\n",
              "22     22  Greater Mumbai, India  27-Mar-15     Silver    Bills      F  467014\n",
              "23     23       Ahmedabad, India  11-Oct-13       Gold    Bills      F  668568\n",
              "24     24       Ahmedabad, India  26-Mar-14       Gold    Bills      F  339112\n",
              "25     25           Delhi, India  27-Sep-14     Silver    Bills      F  622170\n",
              "26     26       Bengaluru, India  23-Mar-14   Platinum    Bills      F  434427\n",
              "27     27  Greater Mumbai, India  17-May-14  Signature    Bills      F  655846\n",
              "28     28       Bengaluru, India  18-Jan-15   Platinum    Bills      F  987935\n",
              "29     29           Delhi, India  18-Apr-15       Gold    Bills      F  702774\n",
              "30     30       Bengaluru, India  31-Jul-14  Signature    Bills      F  225392\n",
              "31     31  Greater Mumbai, India  11-Feb-15       Gold    Bills      F  296573\n",
              "32     32       Ahmedabad, India  24-Nov-13   Platinum    Bills      F  227702\n",
              "33     33       Ahmedabad, India   8-Nov-14       Gold    Bills      F  864090\n",
              "34     34       Ahmedabad, India   6-Sep-14  Signature    Bills      F  440605\n",
              "35     35       Ahmedabad, India  24-Mar-15   Platinum    Bills      F  954660\n",
              "36     36       Ahmedabad, India   1-Jan-14  Signature    Bills      F  255577\n",
              "37     37       Ahmedabad, India  12-Jul-14     Silver    Bills      F  337352\n",
              "38     38       Ahmedabad, India   4-Feb-14   Platinum    Bills      F  660244\n",
              "39     39           Delhi, India   3-Feb-15     Silver    Bills      F  401351\n",
              "40     40           Delhi, India  27-Oct-13   Platinum    Bills      F  678842\n",
              "41     41           Delhi, India  11-May-14       Gold    Bills      F  478861\n",
              "42     42       Bengaluru, India  10-Nov-14   Platinum    Bills      F  804938\n",
              "43     43           Delhi, India  30-Jan-15     Silver    Bills      F  888341\n",
              "44     44       Bengaluru, India  19-Apr-14   Platinum    Bills      F  262414\n",
              "45     45       Bengaluru, India   8-Sep-14       Gold    Bills      F  249353\n",
              "46     46       Ahmedabad, India  10-Dec-13       Gold    Bills      F  892016\n",
              "47     47       Ahmedabad, India   4-Nov-13   Platinum    Bills      F  313626\n",
              "48     48  Greater Mumbai, India   1-Jun-14       Gold    Bills      F  314366\n",
              "49     49  Greater Mumbai, India  27-Apr-14  Signature    Bills      F  551340"
            ]
          },
          "execution_count": 6,
          "metadata": {},
          "output_type": "execute_result"
        }
      ],
      "source": [
        "df.head(50)"
      ]
    },
    {
      "cell_type": "code",
      "execution_count": null,
      "id": "6da973cb",
      "metadata": {
        "id": "6da973cb",
        "outputId": "2697dae5-9f30-407c-9aec-60df59823d3b"
      },
      "outputs": [
        {
          "data": {
            "image/png": "[encoded data removed]",
            "text/plain": [
              "<Figure size 640x480 with 1 Axes>"
            ]
          },
          "metadata": {},
          "output_type": "display_data"
        }
      ],
      "source": [
        "import seaborn as sns\n",
        "import matplotlib.pyplot as plt\n",
        "sns.countplot(data=df, x='Gender', width=0.6)\n",
        "plt.title('genderwise expenditure')\n",
        "plt.xlabel('gender of spender')\n",
        "plt.ylabel('Count')\n",
        "plt.xticks(rotation=0, ha='left', fontsize=20)\n",
        "plt.tight_layout()\n",
        "plt.show()"
      ]
    },
    {
      "cell_type": "code",
      "execution_count": null,
      "id": "fc322b0f",
      "metadata": {
        "id": "fc322b0f",
        "outputId": "e9f7bad8-da64-4420-a307-d964182db9c7"
      },
      "outputs": [
        {
          "data": {
            "image/png": "[encoded data removed]",
            "text/plain": [
              "<Figure size 640x480 with 1 Axes>"
            ]
          },
          "metadata": {},
          "output_type": "display_data"
        }
      ],
      "source": [
        "sns.countplot(data=df, x='Exp Type', width=0.6)\n",
        "plt.title('types of expenditure')\n",
        "plt.xlabel('types of expenditure')\n",
        "plt.ylabel('no. of transactions')\n",
        "plt.xticks(rotation=0, ha='left', fontsize=8)\n",
        "plt.tight_layout()\n",
        "plt.show()"
      ]
    },
    {
      "cell_type": "code",
      "execution_count": null,
      "id": "17a4bbfc",
      "metadata": {
        "id": "17a4bbfc",
        "outputId": "bb458864-c970-461e-e9a8-be2522dec3d1"
      },
      "outputs": [
        {
          "name": "stdout",
          "output_type": "stream",
          "text": [
            "Number of guys spending for bills: 2218\n"
          ]
        }
      ],
      "source": [
        "\n",
        "bills_data = data[data['Exp Type'] == 'Bills']\n",
        "guys_spending_count = bills_data[bills_data['Gender'] == 'M'].shape[0]\n",
        "\n",
        "print(\"Number of guys spending for bills:\", guys_spending_count)\n"
      ]
    },
    {
      "cell_type": "code",
      "execution_count": null,
      "id": "1c3cada5",
      "metadata": {
        "id": "1c3cada5",
        "outputId": "130e287c-1097-46da-90dd-606260801f28"
      },
      "outputs": [
        {
          "name": "stdout",
          "output_type": "stream",
          "text": [
            "Number of girls spending for bills: 2860\n"
          ]
        }
      ],
      "source": [
        "bills_data = data[data['Exp Type'] == 'Bills']\n",
        "guys_spending_count = bills_data[bills_data['Gender'] == 'M'].shape[0]\n",
        "\n",
        "print(\"Number of guys spending for bills:\", guys_spending_count)"
      ]
    },
    {
      "cell_type": "code",
      "execution_count": null,
      "id": "b79a89cb",
      "metadata": {
        "id": "b79a89cb",
        "outputId": "baf7dc5f-e99c-4872-8cd4-1a1660fc168f"
      },
      "outputs": [
        {
          "name": "stdout",
          "output_type": "stream",
          "text": [
            "Number of guys spending for bills: 2451\n"
          ]
        }
      ],
      "source": [
        "bills_data = data[data['Exp Type'] == 'Food']\n",
        "guys_spending_count = bills_data[bills_data['Gender'] == 'M'].shape[0]\n",
        "\n",
        "print(\"Number of guys spending for bills:\", guys_spending_count)"
      ]
    },
    {
      "cell_type": "code",
      "execution_count": null,
      "id": "5a9686ff",
      "metadata": {
        "id": "5a9686ff",
        "outputId": "52336f48-2dee-4b55-c220-a8c0c9a173f2"
      },
      "outputs": [
        {
          "name": "stdout",
          "output_type": "stream",
          "text": [
            "Number of girls spending for bills: 3012\n"
          ]
        }
      ],
      "source": [
        "bills_data = data[data['Exp Type'] == 'Food']\n",
        "girls_spending_count = bills_data[bills_data['Gender'] == 'F'].shape[0]\n",
        "\n",
        "print(\"Number of girls spending for bills:\", girls_spending_count)\n"
      ]
    },
    {
      "cell_type": "code",
      "execution_count": null,
      "id": "63fd3432",
      "metadata": {
        "id": "63fd3432",
        "outputId": "494bb4b1-3a6a-4091-abeb-ea9ef3bc5019"
      },
      "outputs": [
        {
          "name": "stdout",
          "output_type": "stream",
          "text": [
            "Number of guys spending for bills: 2378\n"
          ]
        }
      ],
      "source": [
        "bills_data = data[data['Exp Type'] == 'Entertainment']\n",
        "guys_spending_count = bills_data[bills_data['Gender'] == 'M'].shape[0]\n",
        "\n",
        "print(\"Number of guys spending for bills:\", guys_spending_count)"
      ]
    },
    {
      "cell_type": "code",
      "execution_count": null,
      "id": "f552ea80",
      "metadata": {
        "id": "f552ea80",
        "outputId": "7dd4c97d-2836-4ad2-aa26-91ad63895c46"
      },
      "outputs": [
        {
          "name": "stdout",
          "output_type": "stream",
          "text": [
            "Number of guys spending for bills: 2326\n"
          ]
        }
      ],
      "source": [
        "bills_data = data[data['Exp Type'] == 'Grocery']\n",
        "guys_spending_count = bills_data[bills_data['Gender'] == 'M'].shape[0]\n",
        "\n",
        "print(\"Number of guys spending for bills:\", guys_spending_count)"
      ]
    },
    {
      "cell_type": "code",
      "execution_count": null,
      "id": "156b688e",
      "metadata": {
        "id": "156b688e",
        "outputId": "fa2ae232-173f-47fa-f136-e7875c1d52e5"
      },
      "outputs": [
        {
          "name": "stdout",
          "output_type": "stream",
          "text": [
            "Number of guys spending for bills: 2640\n"
          ]
        }
      ],
      "source": [
        "bills_data = data[data['Exp Type'] == 'Fuel']\n",
        "guys_spending_count = bills_data[bills_data['Gender'] == 'M'].shape[0]\n",
        "\n",
        "print(\"Number of guys spending for bills:\", guys_spending_count)"
      ]
    },
    {
      "cell_type": "code",
      "execution_count": null,
      "id": "18ce5241",
      "metadata": {
        "id": "18ce5241",
        "outputId": "f8c8282b-a829-495f-a470-d84e6462c567"
      },
      "outputs": [
        {
          "name": "stdout",
          "output_type": "stream",
          "text": [
            "Number of guys spending for bills: 359\n"
          ]
        }
      ],
      "source": [
        "bills_data = data[data['Exp Type'] == 'Travel']\n",
        "guys_spending_count = bills_data[bills_data['Gender'] == 'M'].shape[0]\n",
        "\n",
        "print(\"Number of guys spending for bills:\", guys_spending_count)"
      ]
    },
    {
      "cell_type": "code",
      "execution_count": null,
      "id": "0eaa63b9",
      "metadata": {
        "id": "0eaa63b9",
        "outputId": "a089591a-cf35-42ec-c60c-438cfd957a34"
      },
      "outputs": [
        {
          "name": "stdout",
          "output_type": "stream",
          "text": [
            "Number of girls spending for bills: 2384\n"
          ]
        }
      ],
      "source": [
        "bills_data = data[data['Exp Type'] == 'Entertainment']\n",
        "girls_spending_count = bills_data[bills_data['Gender'] == 'F'].shape[0]\n",
        "\n",
        "print(\"Number of girls spending for bills:\", girls_spending_count)"
      ]
    },
    {
      "cell_type": "code",
      "execution_count": null,
      "id": "84549e23",
      "metadata": {
        "id": "84549e23",
        "outputId": "42ccf8a2-c197-4b70-b80f-8c229a5743a7"
      },
      "outputs": [
        {
          "name": "stdout",
          "output_type": "stream",
          "text": [
            "Number of girls spending for bills: 2428\n"
          ]
        }
      ],
      "source": [
        "bills_data = data[data['Exp Type'] == 'Grocery']\n",
        "girls_spending_count = bills_data[bills_data['Gender'] == 'F'].shape[0]\n",
        "\n",
        "print(\"Number of girls spending for bills:\", girls_spending_count)"
      ]
    },
    {
      "cell_type": "code",
      "execution_count": null,
      "id": "a5f56d9b",
      "metadata": {
        "id": "a5f56d9b",
        "outputId": "57cec932-fd79-4ff1-c62f-720a3ea228a3"
      },
      "outputs": [
        {
          "name": "stdout",
          "output_type": "stream",
          "text": [
            "Number of girls spending for bills: 2617\n"
          ]
        }
      ],
      "source": [
        "bills_data = data[data['Exp Type'] == 'Fuel']\n",
        "girls_spending_count = bills_data[bills_data['Gender'] == 'F'].shape[0]\n",
        "\n",
        "print(\"Number of girls spending for bills:\", girls_spending_count)"
      ]
    },
    {
      "cell_type": "code",
      "execution_count": null,
      "id": "b8d9969d",
      "metadata": {
        "id": "b8d9969d",
        "outputId": "f8afe833-b376-46a0-a65a-5cb7081f8145"
      },
      "outputs": [
        {
          "name": "stdout",
          "output_type": "stream",
          "text": [
            "Number of girls spending for bills: 379\n"
          ]
        }
      ],
      "source": [
        "bills_data = data[data['Exp Type'] == 'Travel']\n",
        "girls_spending_count = bills_data[bills_data['Gender'] == 'F'].shape[0]\n",
        "\n",
        "print(\"Number of girls spending for bills:\", girls_spending_count)"
      ]
    },
    {
      "cell_type": "code",
      "execution_count": null,
      "id": "44228237",
      "metadata": {
        "id": "44228237",
        "outputId": "dbfe4cb0-8d3d-4e9d-ac24-c0be17517075"
      },
      "outputs": [
        {
          "data": {
            "image/png": "[encoded data removed]",
            "text/plain": [
              "<Figure size 640x480 with 1 Axes>"
            ]
          },
          "metadata": {},
          "output_type": "display_data"
        }
      ],
      "source": [
        "sns.countplot(data=df, x='Card Type', width=0.6)\n",
        "plt.title('TYPES OF CARDS')\n",
        "plt.xlabel('types of cards issued')\n",
        "plt.ylabel('Count')\n",
        "plt.xticks(rotation=0, ha='left', fontsize=10)\n",
        "plt.tight_layout()\n",
        "plt.show()"
      ]
    }
  ],
  "metadata": {
    "kernelspec": {
      "display_name": "Python 3 (ipykernel)",
      "language": "python",
      "name": "python3"
    },
    "language_info": {
      "codemirror_mode": {
        "name": "ipython",
        "version": 3
      },
      "file_extension": ".py",
      "mimetype": "text/x-python",
      "name": "python",
      "nbconvert_exporter": "python",
      "pygments_lexer": "ipython3",
      "version": "3.11.5"
    },
    "colab": {
      "provenance": [],
      "include_colab_link": true
    }
  },
  "nbformat": 4,
  "nbformat_minor": 5
}